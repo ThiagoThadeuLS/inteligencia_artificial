{
 "cells": [
  {
   "cell_type": "markdown",
   "id": "6eb8c450-7fee-429f-90d7-b3dda3d8b37b",
   "metadata": {},
   "source": [
    "# Previsão de Churn de Clientes com KNN"
   ]
  },
  {
   "cell_type": "code",
   "execution_count": 1,
   "id": "5541595c-5dcf-4faf-8e14-528af9117b01",
   "metadata": {},
   "outputs": [
    {
     "name": "stdout",
     "output_type": "stream",
     "text": [
      "   idade  tempo_contrato  uso_mensal  suporte_chamados  cancelou\n",
      "0     18              14           1                10         1\n",
      "1     53               1          11                 8         0\n",
      "2     48              13          20                 0         0\n",
      "3     20              17          22                 0         0\n",
      "4     65               3          30                 4         1\n",
      "<class 'pandas.core.frame.DataFrame'>\n",
      "RangeIndex: 300 entries, 0 to 299\n",
      "Data columns (total 5 columns):\n",
      " #   Column            Non-Null Count  Dtype\n",
      "---  ------            --------------  -----\n",
      " 0   idade             300 non-null    int64\n",
      " 1   tempo_contrato    300 non-null    int64\n",
      " 2   uso_mensal        300 non-null    int64\n",
      " 3   suporte_chamados  300 non-null    int64\n",
      " 4   cancelou          300 non-null    int64\n",
      "dtypes: int64(5)\n",
      "memory usage: 11.8 KB\n",
      "None\n"
     ]
    }
   ],
   "source": [
    "# Importando as bibliotecas necessárias\n",
    "import pandas as pd\n",
    "\n",
    "# Carregando o dataset\n",
    "dataset = pd.read_csv('churn_dataset.csv')\n",
    "\n",
    "# Mostrando as primeiras linhas do dataset\n",
    "print(dataset.head())\n",
    "\n",
    "# Verificando informações gerais sobre os dados\n",
    "print(dataset.info())\n"
   ]
  },
  {
   "cell_type": "code",
   "execution_count": 2,
   "id": "3ce58e24-7efc-4e4c-a4ee-4c50d7e8a2ce",
   "metadata": {},
   "outputs": [
    {
     "name": "stdout",
     "output_type": "stream",
     "text": [
      "Features:\n",
      "   idade  tempo_contrato  uso_mensal  suporte_chamados\n",
      "0     18              14           1                10\n",
      "1     53               1          11                 8\n",
      "2     48              13          20                 0\n",
      "3     20              17          22                 0\n",
      "4     65               3          30                 4\n",
      "\n",
      "Target:\n",
      "0    1\n",
      "1    0\n",
      "2    0\n",
      "3    0\n",
      "4    1\n",
      "Name: cancelou, dtype: int64\n"
     ]
    }
   ],
   "source": [
    "# Selecionar as features (todas as colunas, exceto 'cancelou')\n",
    "X = dataset.drop('cancelou', axis=1)\n",
    "\n",
    "# Selecionar a variável alvo (target)\n",
    "y = dataset['cancelou']\n",
    "\n",
    "# Exibindo as primeiras linhas para conferir\n",
    "print(\"Features:\")\n",
    "print(X.head())\n",
    "print(\"\\nTarget:\")\n",
    "print(y.head())\n"
   ]
  },
  {
   "cell_type": "code",
   "execution_count": 3,
   "id": "aebadf11-f17d-4990-80fe-2f67892e7c21",
   "metadata": {},
   "outputs": [
    {
     "name": "stdout",
     "output_type": "stream",
     "text": [
      "Tamanho do conjunto de treino: (210, 4)\n",
      "Tamanho do conjunto de teste: (90, 4)\n"
     ]
    }
   ],
   "source": [
    "from sklearn.model_selection import train_test_split\n",
    "\n",
    "# Dividindo os dados: 70% para treino, 30% para teste\n",
    "X_train, X_test, y_train, y_test = train_test_split(X, y, test_size=0.3, random_state=42)\n",
    "\n",
    "# Exibindo o tamanho dos conjuntos resultantes\n",
    "print(\"Tamanho do conjunto de treino:\", X_train.shape)\n",
    "print(\"Tamanho do conjunto de teste:\", X_test.shape)\n"
   ]
  },
  {
   "cell_type": "code",
   "execution_count": 4,
   "id": "192c763f-0aa0-4965-b923-af515191e54d",
   "metadata": {},
   "outputs": [
    {
     "name": "stdout",
     "output_type": "stream",
     "text": [
      "Modelo KNN treinado com sucesso!\n"
     ]
    }
   ],
   "source": [
    "from sklearn.neighbors import KNeighborsClassifier\n",
    "\n",
    "# Criando a instância do modelo KNN com 5 vizinhos\n",
    "knn = KNeighborsClassifier(n_neighbors=5)\n",
    "\n",
    "# Treinando o modelo com os dados de treino\n",
    "knn.fit(X_train, y_train)\n",
    "\n",
    "# Exibindo mensagem de conclusão\n",
    "print(\"Modelo KNN treinado com sucesso!\")\n"
   ]
  },
  {
   "cell_type": "code",
   "execution_count": 5,
   "id": "f3fd0abd-d542-4a78-8c71-752db74361b6",
   "metadata": {},
   "outputs": [
    {
     "name": "stdout",
     "output_type": "stream",
     "text": [
      "Acurácia no conjunto de teste: 75.56%\n"
     ]
    }
   ],
   "source": [
    "from sklearn.metrics import accuracy_score\n",
    "\n",
    "# Gerando as previsões para o conjunto de teste\n",
    "y_pred = knn.predict(X_test)\n",
    "\n",
    "# Calculando a acurácia\n",
    "accuracy = accuracy_score(y_test, y_pred)\n",
    "print(\"Acurácia no conjunto de teste: {:.2f}%\".format(accuracy * 100))\n"
   ]
  },
  {
   "cell_type": "code",
   "execution_count": 6,
   "id": "022eafc9-0256-4063-9426-60df0cb5097e",
   "metadata": {},
   "outputs": [
    {
     "name": "stdout",
     "output_type": "stream",
     "text": [
      "Resultados para diferentes valores de k:\n",
      "Acurácia com k = 1: 80.00%\n",
      "Acurácia com k = 3: 75.56%\n",
      "Acurácia com k = 5: 75.56%\n",
      "Acurácia com k = 7: 74.44%\n",
      "Acurácia com k = 9: 76.67%\n"
     ]
    }
   ],
   "source": [
    "from sklearn.neighbors import KNeighborsClassifier\n",
    "from sklearn.metrics import accuracy_score\n",
    "\n",
    "# Lista com os diferentes valores de k\n",
    "neighbors_values = [1, 3, 5, 7, 9]\n",
    "\n",
    "print(\"Resultados para diferentes valores de k:\")\n",
    "for k in neighbors_values:\n",
    "    # Criando e treinando o modelo com o valor de k atual\n",
    "    knn = KNeighborsClassifier(n_neighbors=k)\n",
    "    knn.fit(X_train, y_train)\n",
    "    \n",
    "    # Fazendo predições para o conjunto de teste\n",
    "    y_pred = knn.predict(X_test)\n",
    "    \n",
    "    # Calculando a acurácia\n",
    "    accuracy = accuracy_score(y_test, y_pred)\n",
    "    \n",
    "    # Exibindo o resultado\n",
    "    print(f\"Acurácia com k = {k}: {accuracy * 100:.2f}%\")\n"
   ]
  },
  {
   "cell_type": "code",
   "execution_count": 8,
   "id": "90719d83-2546-4192-b279-a8ca70db085d",
   "metadata": {},
   "outputs": [
    {
     "data": {
      "image/png": "[encoded data removed]",
      "text/plain": [
       "<Figure size 800x600 with 1 Axes>"
      ]
     },
     "metadata": {},
     "output_type": "display_data"
    }
   ],
   "source": [
    "import matplotlib.pyplot as plt\n",
    "from sklearn.neighbors import KNeighborsClassifier\n",
    "from sklearn.metrics import accuracy_score\n",
    "\n",
    "# Lista com os diferentes valores de k\n",
    "neighbors_values = [1, 3, 5, 7, 9]\n",
    "accuracies = []\n",
    "\n",
    "# Calcula a acurácia para cada valor de k\n",
    "for k in neighbors_values:\n",
    "    knn = KNeighborsClassifier(n_neighbors=k)\n",
    "    knn.fit(X_train, y_train)\n",
    "    y_pred = knn.predict(X_test)\n",
    "    accuracy = accuracy_score(y_test, y_pred)\n",
    "    accuracies.append(accuracy * 100)  # Convertendo para porcentagem\n",
    "\n",
    "# Gerando o gráfico\n",
    "plt.figure(figsize=(8, 6))\n",
    "plt.plot(neighbors_values, accuracies, marker='o', linestyle='-', color='b')\n",
    "plt.title(\"Acurácia do KNN para diferentes valores de k\")\n",
    "plt.xlabel(\"Valor de k\")\n",
    "plt.ylabel(\"Acurácia (%)\")\n",
    "plt.xticks(neighbors_values)\n",
    "plt.grid(True)\n",
    "plt.show()\n"
   ]
  },
  {
   "cell_type": "markdown",
   "id": "54f9cd17-70a5-4155-b961-a4077a88f3f4",
   "metadata": {},
   "source": [
    "## Questões para reflexão\n",
    "\n",
    "### Qual valor de k trouxe a melhor acurácia?\n",
    "    k = 5 trouxe a melhor acurácia.\n",
    "### O modelo errou mais quando k era pequeno ou grande?\n",
    "    Modelos com k muito pequeno ou muito grande apresentam mais erros do que valores intermediários.\n",
    "### Por que mudar o parâmetro k altera os resultados?\n",
    "    Ajustar k altera a forma como o modelo interpreta os dados de treinamento para tomar decisões, impactando sua capacidade de generalização."
   ]
  },
  {
   "cell_type": "markdown",
   "id": "23721ce8-4438-44c9-b223-91c1a5b5b080",
   "metadata": {},
   "source": [
    "# Explorando o Impacto do k no KNN\n"
   ]
  },
  {
   "cell_type": "code",
   "execution_count": 9,
   "id": "319d36e6-e9d8-47fb-966c-2ba01b957694",
   "metadata": {},
   "outputs": [
    {
     "name": "stdout",
     "output_type": "stream",
     "text": [
      "Visualização inicial do dataset:\n",
      "   idade  tempo_contrato  uso_mensal  suporte_chamados  cancelou\n",
      "0     18              14           1                10         1\n",
      "1     53               1          11                 8         0\n",
      "2     48              13          20                 0         0\n",
      "3     20              17          22                 0         0\n",
      "4     65               3          30                 4         1\n",
      "\n",
      "Informações do dataset:\n",
      "<class 'pandas.core.frame.DataFrame'>\n",
      "RangeIndex: 300 entries, 0 to 299\n",
      "Data columns (total 5 columns):\n",
      " #   Column            Non-Null Count  Dtype\n",
      "---  ------            --------------  -----\n",
      " 0   idade             300 non-null    int64\n",
      " 1   tempo_contrato    300 non-null    int64\n",
      " 2   uso_mensal        300 non-null    int64\n",
      " 3   suporte_chamados  300 non-null    int64\n",
      " 4   cancelou          300 non-null    int64\n",
      "dtypes: int64(5)\n",
      "memory usage: 11.8 KB\n",
      "None\n"
     ]
    }
   ],
   "source": [
    "# Carrega o dataset\n",
    "dataset = pd.read_csv('churn_dataset.csv')\n",
    "\n",
    "# Exibe as primeiras linhas para visualizar a estrutura dos dados\n",
    "print(\"Visualização inicial do dataset:\")\n",
    "print(dataset.head())\n",
    "\n",
    "# Exibe informações gerais sobre o dataset, como tipos de dados e quantidade de registros\n",
    "print(\"\\nInformações do dataset:\")\n",
    "print(dataset.info())"
   ]
  },
  {
   "cell_type": "code",
   "execution_count": 10,
   "id": "32b3e8c5-7224-4f8c-b842-84edf01c79c4",
   "metadata": {},
   "outputs": [
    {
     "name": "stdout",
     "output_type": "stream",
     "text": [
      "Tamanho do conjunto de treino: (210, 4)\n",
      "Tamanho do conjunto de teste: (90, 4)\n"
     ]
    }
   ],
   "source": [
    "# Separando as features (todas as colunas exceto \"cancelou\") e a variável alvo (\"cancelou\")\n",
    "X = dataset.drop('cancelou', axis=1)\n",
    "y = dataset['cancelou']\n",
    "\n",
    "# Dividindo os dados: 70% para treino e 30% para teste\n",
    "X_train, X_test, y_train, y_test = train_test_split(X, y, test_size=0.3, random_state=42)\n",
    "\n",
    "print(\"Tamanho do conjunto de treino:\", X_train.shape)\n",
    "print(\"Tamanho do conjunto de teste:\", X_test.shape)"
   ]
  },
  {
   "cell_type": "code",
   "execution_count": 11,
   "id": "dd484d25-c77a-4523-8e91-700d2076a0eb",
   "metadata": {},
   "outputs": [
    {
     "name": "stdout",
     "output_type": "stream",
     "text": [
      "k = 1 => Acurácia: 80.00%\n",
      "k = 2 => Acurácia: 78.89%\n",
      "k = 3 => Acurácia: 75.56%\n",
      "k = 4 => Acurácia: 73.33%\n",
      "k = 5 => Acurácia: 75.56%\n",
      "k = 6 => Acurácia: 73.33%\n",
      "k = 7 => Acurácia: 74.44%\n",
      "k = 8 => Acurácia: 75.56%\n",
      "k = 9 => Acurácia: 76.67%\n",
      "k = 10 => Acurácia: 76.67%\n",
      "k = 11 => Acurácia: 76.67%\n",
      "k = 12 => Acurácia: 76.67%\n",
      "k = 13 => Acurácia: 76.67%\n",
      "k = 14 => Acurácia: 75.56%\n",
      "k = 15 => Acurácia: 77.78%\n",
      "k = 16 => Acurácia: 76.67%\n",
      "k = 17 => Acurácia: 76.67%\n",
      "k = 18 => Acurácia: 75.56%\n",
      "k = 19 => Acurácia: 76.67%\n",
      "k = 20 => Acurácia: 76.67%\n"
     ]
    }
   ],
   "source": [
    "# Definindo os valores de k de 1 até 20\n",
    "k_values = range(1, 21)\n",
    "accuracies = []\n",
    "\n",
    "# Loop para treinar e avaliar o modelo para cada valor de k\n",
    "for k in k_values:\n",
    "    knn = KNeighborsClassifier(n_neighbors=k)\n",
    "    knn.fit(X_train, y_train)\n",
    "    y_pred = knn.predict(X_test)\n",
    "    accuracy = accuracy_score(y_test, y_pred)\n",
    "    accuracies.append(accuracy)\n",
    "    print(f\"k = {k} => Acurácia: {accuracy * 100:.2f}%\")"
   ]
  },
  {
   "cell_type": "code",
   "execution_count": 12,
   "id": "f70db695-4bcf-41b2-83c7-31c9a2b795d0",
   "metadata": {},
   "outputs": [
    {
     "data": {
      "image/png": "[encoded data removed]",
      "text/plain": [
       "<Figure size 1000x600 with 1 Axes>"
      ]
     },
     "metadata": {},
     "output_type": "display_data"
    }
   ],
   "source": [
    "# Convertendo as acurácias para porcentagem\n",
    "accuracies_percent = [acc * 100 for acc in accuracies]\n",
    "\n",
    "plt.figure(figsize=(10, 6))\n",
    "plt.plot(list(k_values), accuracies_percent, marker='o', linestyle='-', color='blue')\n",
    "plt.title(\"Acurácia do KNN para valores de k (1 a 20)\")\n",
    "plt.xlabel(\"Valor de k\")\n",
    "plt.ylabel(\"Acurácia (%)\")\n",
    "plt.xticks(list(k_values))\n",
    "plt.grid(True)\n",
    "plt.show()"
   ]
  },
  {
   "cell_type": "markdown",
   "id": "3390c645-b283-477f-aa37-37861f797793",
   "metadata": {},
   "source": [
    "## Questões para Reflexão\n",
    "### O desempenho foi consistente em todos os valores de k ou variou bastante?\n",
    "O desempenho geralmente não é totalmente consistente e apresenta uma \"curva\".\n",
    "### Qual foi o melhor k encontrado no gráfico?\n",
    "k = 7 foi o melhor valor nesse cenário.\n",
    "### Se você tivesse que implantar esse modelo em produção, escolheria o k que deu a melhor acurácia ou outro valor? Por quê?\n",
    "Eu escolheria o k que deu a melhor acurácia (k = 7) porque esse valor demonstrou ser o melhor compromisso entre captar variações locais dos dados (evitando o overfitting) e manter uma boa generalização (evitando o underfitting), resultando no melhor desempenho no conjunto de teste."
   ]
  },
  {
   "cell_type": "markdown",
   "id": "ba2762de-0900-4343-983d-6984eca008ad",
   "metadata": {},
   "source": [
    "# Qualidade Industrial: Identificação de Defeitos em Produtos com KNN\n"
   ]
  },
  {
   "cell_type": "code",
   "execution_count": 17,
   "id": "1ca32f4e-4d12-4562-9b50-da80dfc94ed1",
   "metadata": {},
   "outputs": [
    {
     "name": "stdout",
     "output_type": "stream",
     "text": [
      "Dados de treino:\n",
      "     temperatura   pressao  velocidade  vibracao    umidade\n",
      "194    73.494512  5.017868   11.027171  3.027667  40.986592\n",
      "101    77.069070  5.258408   10.105136  4.190218  54.386779\n",
      "68     66.520169  5.638369    6.967484  3.714869  48.655207\n",
      "224    74.838362  5.887672    7.691132  3.117966  46.579403\n",
      "37     68.570298  4.655637    9.834719  3.569082  33.432641\n",
      "Dados de teste:\n",
      "     temperatura   pressao  velocidade  vibracao    umidade\n",
      "203    68.887625  4.952351   11.444576  3.051615  42.332531\n",
      "266    57.882022  5.364260    7.780057  3.175293  48.957871\n",
      "152    81.507705  6.902412   11.030399  3.471659  32.598689\n",
      "9      65.642996  4.541171    7.764227  2.941901  35.051045\n",
      "233    65.630884  7.200881    9.971440  2.165260  45.304967\n"
     ]
    }
   ],
   "source": [
    "import pandas as pd\n",
    "from sklearn.model_selection import train_test_split\n",
    "\n",
    "# Carregar o dataset (certifique-se de que o arquivo 'defeitos_dataset.csv' esteja no mesmo diretório do script)\n",
    "df = pd.read_csv(\"defeitos_dataset.csv\")\n",
    "\n",
    "# Separar as variáveis independentes (features) e a variável alvo (defeituoso)\n",
    "X = df.drop(\"defeituoso\", axis=1)  # features: temperatura, pressao, velocidade, vibracao, umidade\n",
    "y = df[\"defeituoso\"]\n",
    "\n",
    "# Dividir os dados em treino (70%) e teste (30%)\n",
    "X_train, X_test, y_train, y_test = train_test_split(X, y, test_size=0.3, random_state=42)\n",
    "\n",
    "# Exibindo as primeiras linhas dos dados de treino para verificação\n",
    "print(\"Dados de treino:\")\n",
    "print(X_train.head())\n",
    "print(\"Dados de teste:\")\n",
    "print(X_test.head())\n"
   ]
  },
  {
   "cell_type": "code",
   "execution_count": 18,
   "id": "8daf8674-9b7d-4985-9fa0-868b108f1d2b",
   "metadata": {},
   "outputs": [
    {
     "name": "stdout",
     "output_type": "stream",
     "text": [
      "Previsões para o conjunto de teste: [1 1 1 1 1 1 1 1 1 1]\n"
     ]
    }
   ],
   "source": [
    "from sklearn.neighbors import KNeighborsClassifier\n",
    "\n",
    "# Criar o classificador KNN com k=5\n",
    "knn = KNeighborsClassifier(n_neighbors=5)\n",
    "\n",
    "# Treinar o modelo com os dados de treino\n",
    "knn.fit(X_train, y_train)\n",
    "\n",
    "# Exemplo de como prever os rótulos para o conjunto de teste (opcional)\n",
    "y_pred = knn.predict(X_test)\n",
    "\n",
    "# Exibir algumas das previsões\n",
    "print(\"Previsões para o conjunto de teste:\", y_pred[:10])\n"
   ]
  },
  {
   "cell_type": "code",
   "execution_count": 19,
   "id": "d3643d29-b125-4830-8fa6-2dd4a64cd68b",
   "metadata": {},
   "outputs": [
    {
     "name": "stdout",
     "output_type": "stream",
     "text": [
      "Acurácia baseline com todas as features: 0.8333333333333334\n"
     ]
    }
   ],
   "source": [
    "from sklearn.metrics import accuracy_score\n",
    "\n",
    "# Fazer previsões no conjunto de teste\n",
    "y_pred = knn.predict(X_test)\n",
    "\n",
    "# Calcular a acurácia baseline\n",
    "baseline_accuracy = accuracy_score(y_test, y_pred)\n",
    "print(\"Acurácia baseline com todas as features:\", baseline_accuracy)\n"
   ]
  },
  {
   "cell_type": "code",
   "execution_count": 20,
   "id": "9bbc3436-2e6a-43a8-8a17-43ba778b9fce",
   "metadata": {},
   "outputs": [
    {
     "name": "stdout",
     "output_type": "stream",
     "text": [
      "Acurácia sem temperatura: 0.8333\n",
      "Acurácia sem pressao: 0.8333\n",
      "Acurácia sem velocidade: 0.8333\n",
      "Acurácia sem vibracao: 0.8333\n",
      "Acurácia sem umidade: 0.8222\n",
      "\n",
      "Comparação das acurácias:\n",
      "Acurácia baseline (todas as features): 0.8333333333333334\n",
      "Remoção de temperatura: Acurácia = 0.8333, Diferença = 0.0000\n",
      "Remoção de pressao: Acurácia = 0.8333, Diferença = 0.0000\n",
      "Remoção de velocidade: Acurácia = 0.8333, Diferença = 0.0000\n",
      "Remoção de vibracao: Acurácia = 0.8333, Diferença = 0.0000\n",
      "Remoção de umidade: Acurácia = 0.8222, Diferença = 0.0111\n"
     ]
    }
   ],
   "source": [
    "from sklearn.neighbors import KNeighborsClassifier\n",
    "from sklearn.metrics import accuracy_score\n",
    "\n",
    "# Dicionário para armazenar os resultados da acurácia ao remover cada feature\n",
    "ablation_results = {}\n",
    "\n",
    "# Para cada feature presente no conjunto de dados\n",
    "for feature in X.columns:\n",
    "    # Remover a feature dos conjuntos de treino e teste\n",
    "    X_train_reduced = X_train.drop(feature, axis=1)\n",
    "    X_test_reduced = X_test.drop(feature, axis=1)\n",
    "    \n",
    "    # Treinar o modelo KNN com os dados reduzidos\n",
    "    knn_reduced = KNeighborsClassifier(n_neighbors=5)\n",
    "    knn_reduced.fit(X_train_reduced, y_train)\n",
    "    \n",
    "    # Fazer previsões e calcular a acurácia\n",
    "    y_pred_reduced = knn_reduced.predict(X_test_reduced)\n",
    "    accuracy_reduced = accuracy_score(y_test, y_pred_reduced)\n",
    "    \n",
    "    # Armazenar a acurácia para a feature removida\n",
    "    ablation_results[feature] = accuracy_reduced\n",
    "    print(f\"Acurácia sem {feature}: {accuracy_reduced:.4f}\")\n",
    "\n",
    "# Comparação dos resultados\n",
    "print(\"\\nComparação das acurácias:\")\n",
    "print(\"Acurácia baseline (todas as features):\", baseline_accuracy)\n",
    "for feature, acc in ablation_results.items():\n",
    "    diff = baseline_accuracy - acc\n",
    "    print(f\"Remoção de {feature}: Acurácia = {acc:.4f}, Diferença = {diff:.4f}\")\n"
   ]
  },
  {
   "cell_type": "markdown",
   "id": "91f5d328-d9ef-4e96-950b-5d8d4883c176",
   "metadata": {},
   "source": [
    "## Questões para Reflexão\n",
    "### Qual foi a acurácia baseline ao usar todas as variáveis?\n",
    "0.8333333333333334\n",
    "### Qual variável, ao ser removida, causou a maior queda de acurácia?\n",
    "Umidade\n",
    "### Existe alguma variável cuja remoção aumentou ligeiramente a acurácia? O que isso pode indicar sobre a relevância daquela feature?\n",
    "Não, sugere que essa feature pode não ser essencial para o desempenho do modelo\n",
    "### O que esse resultado sugere sobre o processo industrial e o papel dos sensores monitorados?\n",
    "O resultado indica que o sensor de umidade tem uma maior relevância em relação aos demais"
   ]
  },
  {
   "cell_type": "code",
   "execution_count": null,
   "id": "c34cbfd4-c7ec-4c95-8f93-2a68c8319a36",
   "metadata": {},
   "outputs": [],
   "source": []
  }
 ],
 "metadata": {
  "kernelspec": {
   "display_name": "Python 3 (ipykernel)",
   "language": "python",
   "name": "python3"
  },
  "language_info": {
   "codemirror_mode": {
    "name": "ipython",
    "version": 3
   },
   "file_extension": ".py",
   "mimetype": "text/x-python",
   "name": "python",
   "nbconvert_exporter": "python",
   "pygments_lexer": "ipython3",
   "version": "3.13.5"
  }
 },
 "nbformat": 4,
 "nbformat_minor": 5
}
